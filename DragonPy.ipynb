{
  "nbformat": 4,
  "nbformat_minor": 0,
  "metadata": {
    "colab": {
      "name": "DragonPy.ipynb",
      "provenance": [],
      "collapsed_sections": [],
      "authorship_tag": "ABX9TyMKGQYunm0jAO0MeGOyZ4pm",
      "include_colab_link": true
    },
    "kernelspec": {
      "name": "python3",
      "display_name": "Python 3"
    }
  },
  "cells": [
    {
      "cell_type": "markdown",
      "metadata": {
        "id": "view-in-github",
        "colab_type": "text"
      },
      "source": [
        "<a href=\"https://colab.research.google.com/github/kinglider/Machine-Learning-Adventures/blob/master/DragonPy.ipynb\" target=\"_parent\"><img src=\"https://colab.research.google.com/assets/colab-badge.svg\" alt=\"Open In Colab\"/></a>"
      ]
    },
    {
      "cell_type": "markdown",
      "metadata": {
        "id": "g3cO_m5nG-PB",
        "colab_type": "text"
      },
      "source": [
        "#**DragonPy For Data Visualization**"
      ]
    },
    {
      "cell_type": "code",
      "metadata": {
        "id": "UbA1uiOyGmc-",
        "colab_type": "code",
        "colab": {}
      },
      "source": [
        "import matplotlib.pyplot as plt\n",
        "import numpy as np\n",
        "import sympy as sym\n",
        "import tensorflow as tf\n",
        "from tensorflow import keras\n",
        "from sympy.parsing.sympy_parser import parse_expr\n",
        "from matplotlib import cm"
      ],
      "execution_count": null,
      "outputs": []
    },
    {
      "cell_type": "markdown",
      "metadata": {
        "id": "dC4pxkHtHaGz",
        "colab_type": "text"
      },
      "source": [
        "#**Function For Plotting Data And Derivative**"
      ]
    },
    {
      "cell_type": "code",
      "metadata": {
        "id": "p_J-7f6rNruH",
        "colab_type": "code",
        "colab": {}
      },
      "source": [
        "d = sym.diff(parse_expr('(2*x + 1)**3'))"
      ],
      "execution_count": null,
      "outputs": []
    },
    {
      "cell_type": "code",
      "metadata": {
        "id": "coTsW2DPQE8c",
        "colab_type": "code",
        "colab": {}
      },
      "source": [
        "def df(x, deriv_str):\n",
        "  \"\"\"\n",
        "  Processing function for plot_data()\n",
        "  \"\"\"\n",
        "  deriv_list = np.array([])\n",
        "  d = sym.diff(parse_expr(deriv_str))\n",
        "  for i in range(len(x)):\n",
        "    y = x[i]\n",
        "    np.append(deriv_list,  np.float64(d.evalf(subs = {x: y})))\n",
        "  return deriv_list"
      ],
      "execution_count": null,
      "outputs": []
    },
    {
      "cell_type": "code",
      "metadata": {
        "id": "u9gqrECfHTMF",
        "colab_type": "code",
        "colab": {}
      },
      "source": [
        "def plot_data(x, y, plot_type,deriv,deriv_str= ' ',resize = True ,l = 15,h = 10, color = 'red',hist = False, bins= 12):\n",
        "  \"\"\"\n",
        "  **Returns**: Nothing, plots x,y on a graph, size of which is passed to the function.\\n\n",
        "                In the future, will also be able to plot the derivative function.\\n\n",
        "  **Note**: The function is passed as a string , and is processed into a sympy object, and evaluates using the x array\\n\n",
        "  **Parameters**:\\n\n",
        "  x: np 1D array\\n\n",
        "  y: np 1D array\\n\n",
        "  l:int Length of matplotlib plot\\n\n",
        "  h:int Height of matplotlib plot\\n\n",
        "  color:str colour of plot, defaults to 'red'\\n\n",
        "  plot_type:str scatter/line\\n\n",
        "  resize:boolean,if array shapes are not equal, resizes the smaller array to shape of\n",
        "          larger array\\n\n",
        "  deriv: boolean, if true finds derivative of function passed in deriv_str\\n\n",
        "  deriv_str: str, one variable function, defaults to empty.str \\n\n",
        "  hist: defaults to False. if true, plots histogram of x and y arrays.\\n\n",
        "  bins: defaults to 12. number of bins in historgam\n",
        "  Note: the deriv str function is still being implemented. \n",
        "  \"\"\"\n",
        "  if not hist:\n",
        "    columns = 1\n",
        "  else:\n",
        "    columns = 3\n",
        "  if x.shape[0] > y.shape[0]:\n",
        "    diff = x.shape[0] - y.shape[0]\n",
        "    y = np.resize(y, (x.shape[0]))\n",
        "  if x.shape[0] < y.shape[0]:\n",
        "    diff = y.shape[0] - x.shape[0]\n",
        "    x = np.resize(x, (y.shape[0]))\n",
        "  plt.subplot(1,columns,1)\n",
        "  plt.figure(figsize = [l,h])\n",
        "  plt.xlabel('X-->')\n",
        "  plt.ylabel('$f(x)$')\n",
        "  if deriv:\n",
        "    plot_type = 'line'\n",
        "  if plot_type == 'line':\n",
        "    plt.plot(x,y, color = color)\n",
        "  if plot_type == 'scatter':\n",
        "    plt.scatter(x,y, color = color)\n",
        "  if deriv:\n",
        "    plt.plot(x,df(x, deriv_str),color=color)\n",
        "  if hist:\n",
        "    plt.subplot(1,columns,2)\n",
        "    plt.xlabel('Values of x')\n",
        "    plt.ylabel('Frequency')\n",
        "    plt.hist(x, bins = bins, color = color, ec = 'black')\n",
        "    plt.subplot(1,columns,3)\n",
        "    plt.xlabel('Values of y')\n",
        "    plt.ylabel('Frequency')\n",
        "    plt.hist(y, bins = bins, color = color, ec = 'black')\n",
        "    #plt.hist(y, bins = bins, color = color)"
      ],
      "execution_count": null,
      "outputs": []
    },
    {
      "cell_type": "code",
      "metadata": {
        "id": "TvIhieMSJsnP",
        "colab_type": "code",
        "colab": {}
      },
      "source": [
        "x= np.linspace(2,9,1000)\n",
        "y = np.linspace(-1,8,1000)"
      ],
      "execution_count": null,
      "outputs": []
    },
    {
      "cell_type": "code",
      "metadata": {
        "id": "0z90cgAMULQs",
        "colab_type": "code",
        "colab": {
          "base_uri": "https://localhost:8080/",
          "height": 34
        },
        "outputId": "87b97aa9-ca3f-4b03-98a0-5cd0def15ced"
      },
      "source": [
        "type((x[0]))"
      ],
      "execution_count": null,
      "outputs": [
        {
          "output_type": "execute_result",
          "data": {
            "text/plain": [
              "numpy.float64"
            ]
          },
          "metadata": {
            "tags": []
          },
          "execution_count": 33
        }
      ]
    },
    {
      "cell_type": "code",
      "metadata": {
        "id": "nIoBGCKbJ8_R",
        "colab_type": "code",
        "colab": {
          "base_uri": "https://localhost:8080/",
          "height": 34
        },
        "outputId": "4a8f6ff0-8cbc-4991-9cee-40e694cb72f8"
      },
      "source": [
        "x.shape[0]"
      ],
      "execution_count": null,
      "outputs": [
        {
          "output_type": "execute_result",
          "data": {
            "text/plain": [
              "1000"
            ]
          },
          "metadata": {
            "tags": []
          },
          "execution_count": 20
        }
      ]
    },
    {
      "cell_type": "code",
      "metadata": {
        "id": "t3VuOjRZIFcX",
        "colab_type": "code",
        "colab": {
          "base_uri": "https://localhost:8080/",
          "height": 640
        },
        "outputId": "b1fbd1fc-8ca6-4130-c6ac-0af77ea8c547"
      },
      "source": [
        "plot_data(x,y, deriv=False, hist=False, color = '#ff9f43', plot_type='line',l=10, h=6)"
      ],
      "execution_count": null,
      "outputs": [
        {
          "output_type": "display_data",
          "data": {
            "image/png": "[encoded data removed]",
            "text/plain": [
              "<Figure size 432x288 with 1 Axes>"
            ]
          },
          "metadata": {
            "tags": [],
            "needs_background": "light"
          }
        },
        {
          "output_type": "display_data",
          "data": {
            "image/png": "[encoded data removed]",
            "text/plain": [
              "<Figure size 720x432 with 1 Axes>"
            ]
          },
          "metadata": {
            "tags": [],
            "needs_background": "light"
          }
        }
      ]
    },
    {
      "cell_type": "code",
      "metadata": {
        "id": "x5HqC87gIKCH",
        "colab_type": "code",
        "colab": {
          "base_uri": "https://localhost:8080/",
          "height": 282
        },
        "outputId": "7fa9a206-4862-4e80-a94e-751dd318d33e"
      },
      "source": [
        "plt.plot(x,y,color='red')"
      ],
      "execution_count": null,
      "outputs": [
        {
          "output_type": "execute_result",
          "data": {
            "text/plain": [
              "[<matplotlib.lines.Line2D at 0x7fb2553cda90>]"
            ]
          },
          "metadata": {
            "tags": []
          },
          "execution_count": 9
        },
        {
          "output_type": "display_data",
          "data": {
            "image/png": "[encoded data removed]",
            "text/plain": [
              "<Figure size 432x288 with 1 Axes>"
            ]
          },
          "metadata": {
            "tags": [],
            "needs_background": "light"
          }
        }
      ]
    },
    {
      "cell_type": "markdown",
      "metadata": {
        "id": "e-jbX3x0nMMJ",
        "colab_type": "text"
      },
      "source": [
        "#**Neural net implementation**"
      ]
    },
    {
      "cell_type": "code",
      "metadata": {
        "id": "HKh0E3lhp9dm",
        "colab_type": "code",
        "colab": {
          "base_uri": "https://localhost:8080/",
          "height": 164
        },
        "outputId": "0cbd0f8f-0e15-45f6-89bb-3090b51845d0"
      },
      "source": [
        "image_datasets = {{'fashion_mnist' : 'mnist'}}"
      ],
      "execution_count": null,
      "outputs": [
        {
          "output_type": "error",
          "ename": "TypeError",
          "evalue": "ignored",
          "traceback": [
            "\u001b[0;31m---------------------------------------------------------------------------\u001b[0m",
            "\u001b[0;31mTypeError\u001b[0m                                 Traceback (most recent call last)",
            "\u001b[0;32m<ipython-input-13-e4a3dd465ace>\u001b[0m in \u001b[0;36m<module>\u001b[0;34m()\u001b[0m\n\u001b[0;32m----> 1\u001b[0;31m \u001b[0mimage_datasets\u001b[0m \u001b[0;34m=\u001b[0m \u001b[0;34m{\u001b[0m\u001b[0;34m{\u001b[0m\u001b[0;34m'fashion_mnist'\u001b[0m \u001b[0;34m:\u001b[0m \u001b[0;34m'mnist'\u001b[0m\u001b[0;34m}\u001b[0m\u001b[0;34m}\u001b[0m\u001b[0;34m\u001b[0m\u001b[0;34m\u001b[0m\u001b[0m\n\u001b[0m",
            "\u001b[0;31mTypeError\u001b[0m: unhashable type: 'dict'"
          ]
        }
      ]
    },
    {
      "cell_type": "code",
      "metadata": {
        "id": "VG_qVo-Rl0Yb",
        "colab_type": "code",
        "colab": {}
      },
      "source": [
        "def neural_net(X_train, y_train, dropout, optimizer, loss, metrics):\n",
        "  X_train /= 255.0\n",
        "  keras.Flatten()\n",
        "  \n",
        "  "
      ],
      "execution_count": null,
      "outputs": []
    }
  ]
}