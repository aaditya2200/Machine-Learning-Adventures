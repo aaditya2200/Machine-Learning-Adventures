{
  "nbformat": 4,
  "nbformat_minor": 0,
  "metadata": {
    "colab": {
      "name": "Tensorflow 01.ipynb",
      "provenance": [],
      "authorship_tag": "ABX9TyNJIIcpN5k9i49KfokntF2J",
      "include_colab_link": true
    },
    "kernelspec": {
      "name": "python3",
      "display_name": "Python 3"
    }
  },
  "cells": [
    {
      "cell_type": "markdown",
      "metadata": {
        "id": "view-in-github",
        "colab_type": "text"
      },
      "source": [
        "<a href=\"https://colab.research.google.com/github/kinglider/Machine-Learning-Adventures/blob/master/Tensorflow_01.ipynb\" target=\"_parent\"><img src=\"https://colab.research.google.com/assets/colab-badge.svg\" alt=\"Open In Colab\"/></a>"
      ]
    },
    {
      "cell_type": "markdown",
      "metadata": {
        "id": "nlmo5TLx2A8e",
        "colab_type": "text"
      },
      "source": [
        "#**Image Classification**"
      ]
    },
    {
      "cell_type": "markdown",
      "metadata": {
        "id": "r-gWUjpJwSHa",
        "colab_type": "text"
      },
      "source": [
        "#**Notebook Imports**"
      ]
    },
    {
      "cell_type": "code",
      "metadata": {
        "id": "fl22oWLbwMuD",
        "colab_type": "code",
        "colab": {
          "base_uri": "https://localhost:8080/",
          "height": 34
        },
        "outputId": "74e6fb36-e0ce-49af-d19e-36d2aeda3b47"
      },
      "source": [
        "import tensorflow as tf\n",
        "import numpy as np\n",
        "import matplotlib.pyplot as plt\n",
        "from tensorflow import keras\n",
        "from tensorflow.keras import layers\n",
        "from keras.layers import Dense, Dropout\n",
        "from keras.models import Sequential\n",
        "from keras.datasets import mnist"
      ],
      "execution_count": null,
      "outputs": [
        {
          "output_type": "stream",
          "text": [
            "Using TensorFlow backend.\n"
          ],
          "name": "stderr"
        }
      ]
    },
    {
      "cell_type": "markdown",
      "metadata": {
        "id": "Du2B4xWB3vHq",
        "colab_type": "text"
      },
      "source": [
        "#**Constants**"
      ]
    },
    {
      "cell_type": "code",
      "metadata": {
        "id": "hk6-2zV6p0sz",
        "colab_type": "code",
        "colab": {
          "base_uri": "https://localhost:8080/",
          "height": 34
        },
        "outputId": "5c464c51-d108-48f9-8bbe-ee7d94d31929"
      },
      "source": [
        "type(mnist)"
      ],
      "execution_count": null,
      "outputs": [
        {
          "output_type": "execute_result",
          "data": {
            "text/plain": [
              "module"
            ]
          },
          "metadata": {
            "tags": []
          },
          "execution_count": 2
        }
      ]
    },
    {
      "cell_type": "code",
      "metadata": {
        "id": "iDhhAgTF3xo_",
        "colab_type": "code",
        "colab": {}
      },
      "source": [
        "class_names = ['T-shirt/top', 'Trouser', 'Pullover', 'Dress', 'Coat',\n",
        "               'Sandal', 'Shirt', 'Sneaker', 'Bag', 'Ankle boot']"
      ],
      "execution_count": null,
      "outputs": []
    },
    {
      "cell_type": "markdown",
      "metadata": {
        "id": "_k3zPcqAw9Ln",
        "colab_type": "text"
      },
      "source": [
        "#**Gather Data**"
      ]
    },
    {
      "cell_type": "code",
      "metadata": {
        "id": "kms8v86_wksL",
        "colab_type": "code",
        "colab": {}
      },
      "source": [
        "(x_train,y_train) , (x_test,y_test) = mnist.load_data()"
      ],
      "execution_count": null,
      "outputs": []
    },
    {
      "cell_type": "code",
      "metadata": {
        "id": "5I-ymIzG3jDm",
        "colab_type": "code",
        "colab": {
          "base_uri": "https://localhost:8080/",
          "height": 34
        },
        "outputId": "090d9e53-ef6e-483d-80f7-b86f2cbddaa4"
      },
      "source": [
        "x_train.shape"
      ],
      "execution_count": null,
      "outputs": [
        {
          "output_type": "execute_result",
          "data": {
            "text/plain": [
              "(60000, 28, 28)"
            ]
          },
          "metadata": {
            "tags": []
          },
          "execution_count": 41
        }
      ]
    },
    {
      "cell_type": "markdown",
      "metadata": {
        "id": "NcMKH6HRxA8Q",
        "colab_type": "text"
      },
      "source": [
        "#**Flatten And Reshape**"
      ]
    },
    {
      "cell_type": "code",
      "metadata": {
        "id": "6BWXLrgow8YH",
        "colab_type": "code",
        "colab": {}
      },
      "source": [
        "x_train , x_test = x_train/255.0 , x_test/255.0"
      ],
      "execution_count": null,
      "outputs": []
    },
    {
      "cell_type": "code",
      "metadata": {
        "id": "ioEqOrkLxQSP",
        "colab_type": "code",
        "colab": {}
      },
      "source": [
        "x_train = x_train.reshape((60000,784))\n",
        "x_test = x_test.reshape((10000,784))\n",
        "#can use flatten method too"
      ],
      "execution_count": null,
      "outputs": []
    },
    {
      "cell_type": "markdown",
      "metadata": {
        "id": "CrqDD9Qr0dUf",
        "colab_type": "text"
      },
      "source": [
        "#**Define The Model**"
      ]
    },
    {
      "cell_type": "code",
      "metadata": {
        "id": "ULxwUQafxaPe",
        "colab_type": "code",
        "colab": {}
      },
      "source": [
        "model = Sequential([\n",
        "                    Dropout(rate=0.27, seed=35),\n",
        "                    Dense(128,input_shape=(784,),activation='relu'),\n",
        "                    Dense(64,activation='relu'),\n",
        "                    Dense(16,activation='relu'),\n",
        "                    Dense(10,activation='softmax')\n",
        "])"
      ],
      "execution_count": null,
      "outputs": []
    },
    {
      "cell_type": "markdown",
      "metadata": {
        "id": "rX602aOa0fjQ",
        "colab_type": "text"
      },
      "source": [
        "#**Compile**"
      ]
    },
    {
      "cell_type": "code",
      "metadata": {
        "id": "OzsDYY-FyZz8",
        "colab_type": "code",
        "colab": {}
      },
      "source": [
        "model.compile(optimizer='RMSprop', loss='sparse_categorical_crossentropy',metrics=['accuracy'])"
      ],
      "execution_count": null,
      "outputs": []
    },
    {
      "cell_type": "code",
      "metadata": {
        "id": "PuwLiqQb0VRk",
        "colab_type": "code",
        "colab": {
          "base_uri": "https://localhost:8080/",
          "height": 34
        },
        "outputId": "93ce7e77-74cb-474b-cd01-fb13588b736d"
      },
      "source": [
        "type(model)"
      ],
      "execution_count": null,
      "outputs": [
        {
          "output_type": "execute_result",
          "data": {
            "text/plain": [
              "keras.engine.sequential.Sequential"
            ]
          },
          "metadata": {
            "tags": []
          },
          "execution_count": 46
        }
      ]
    },
    {
      "cell_type": "markdown",
      "metadata": {
        "id": "w2QfSF2O2H_0",
        "colab_type": "text"
      },
      "source": [
        "#**FIt**"
      ]
    },
    {
      "cell_type": "code",
      "metadata": {
        "id": "JYbTDuUq0m8B",
        "colab_type": "code",
        "colab": {
          "base_uri": "https://localhost:8080/",
          "height": 221
        },
        "outputId": "9881d349-a9bf-4d68-fe4c-b228c87591f6"
      },
      "source": [
        "model.fit(x_train,y_train,epochs=5,verbose=1,validation_split=0.2)"
      ],
      "execution_count": null,
      "outputs": [
        {
          "output_type": "stream",
          "text": [
            "Train on 48000 samples, validate on 12000 samples\n",
            "Epoch 1/5\n",
            "48000/48000 [==============================] - 6s 116us/step - loss: 0.3952 - accuracy: 0.8822 - val_loss: 0.1885 - val_accuracy: 0.9473\n",
            "Epoch 2/5\n",
            "48000/48000 [==============================] - 5s 114us/step - loss: 0.1839 - accuracy: 0.9449 - val_loss: 0.1353 - val_accuracy: 0.9600\n",
            "Epoch 3/5\n",
            "48000/48000 [==============================] - 5s 114us/step - loss: 0.1444 - accuracy: 0.9566 - val_loss: 0.1129 - val_accuracy: 0.9673\n",
            "Epoch 4/5\n",
            "48000/48000 [==============================] - 5s 112us/step - loss: 0.1266 - accuracy: 0.9622 - val_loss: 0.1025 - val_accuracy: 0.9728\n",
            "Epoch 5/5\n",
            "48000/48000 [==============================] - 5s 113us/step - loss: 0.1146 - accuracy: 0.9662 - val_loss: 0.1124 - val_accuracy: 0.9710\n"
          ],
          "name": "stdout"
        },
        {
          "output_type": "execute_result",
          "data": {
            "text/plain": [
              "<keras.callbacks.callbacks.History at 0x7fef3beedfd0>"
            ]
          },
          "metadata": {
            "tags": []
          },
          "execution_count": 47
        }
      ]
    },
    {
      "cell_type": "code",
      "metadata": {
        "id": "4wrgHMsZ0o1G",
        "colab_type": "code",
        "colab": {
          "base_uri": "https://localhost:8080/",
          "height": 323
        },
        "outputId": "a0691746-bf03-4985-ab38-689d45c45ac5"
      },
      "source": [
        "model.summary()"
      ],
      "execution_count": null,
      "outputs": [
        {
          "output_type": "stream",
          "text": [
            "Model: \"sequential_5\"\n",
            "_________________________________________________________________\n",
            "Layer (type)                 Output Shape              Param #   \n",
            "=================================================================\n",
            "dropout_3 (Dropout)          (None, 784)               0         \n",
            "_________________________________________________________________\n",
            "dense_9 (Dense)              (None, 128)               100480    \n",
            "_________________________________________________________________\n",
            "dense_10 (Dense)             (None, 64)                8256      \n",
            "_________________________________________________________________\n",
            "dense_11 (Dense)             (None, 16)                1040      \n",
            "_________________________________________________________________\n",
            "dense_12 (Dense)             (None, 10)                170       \n",
            "=================================================================\n",
            "Total params: 109,946\n",
            "Trainable params: 109,946\n",
            "Non-trainable params: 0\n",
            "_________________________________________________________________\n"
          ],
          "name": "stdout"
        }
      ]
    },
    {
      "cell_type": "code",
      "metadata": {
        "id": "kU3BENat2639",
        "colab_type": "code",
        "colab": {
          "base_uri": "https://localhost:8080/",
          "height": 34
        },
        "outputId": "6831b310-d7df-43cb-a322-8e4c0895ca84"
      },
      "source": [
        "test_loss, test_acc = model.evaluate(x_test, y_test,verbose = 1)"
      ],
      "execution_count": null,
      "outputs": [
        {
          "output_type": "stream",
          "text": [
            "10000/10000 [==============================] - 0s 30us/step\n"
          ],
          "name": "stdout"
        }
      ]
    },
    {
      "cell_type": "code",
      "metadata": {
        "id": "KA091vC43WAJ",
        "colab_type": "code",
        "colab": {
          "base_uri": "https://localhost:8080/",
          "height": 34
        },
        "outputId": "03251e6d-73df-4d9a-e953-10fb021cfa58"
      },
      "source": [
        "print(f'Testing loss and accuracy {test_loss}, {test_acc}')"
      ],
      "execution_count": null,
      "outputs": [
        {
          "output_type": "stream",
          "text": [
            "Testing loss and accuracy 0.10498598940335215, 0.9729999899864197\n"
          ],
          "name": "stdout"
        }
      ]
    },
    {
      "cell_type": "markdown",
      "metadata": {
        "id": "UHey9AN84mMa",
        "colab_type": "text"
      },
      "source": [
        "#**Making Predictions**"
      ]
    },
    {
      "cell_type": "code",
      "metadata": {
        "id": "PTTXa2yb4SEl",
        "colab_type": "code",
        "colab": {
          "base_uri": "https://localhost:8080/",
          "height": 34
        },
        "outputId": "235ed397-ebcb-491d-fe08-fef2e8880f17"
      },
      "source": [
        "prediction = model.predict(x_test, verbose=1)"
      ],
      "execution_count": null,
      "outputs": [
        {
          "output_type": "stream",
          "text": [
            "10000/10000 [==============================] - 0s 25us/step\n"
          ],
          "name": "stdout"
        }
      ]
    },
    {
      "cell_type": "code",
      "metadata": {
        "id": "ftTaWwUq6Zdn",
        "colab_type": "code",
        "colab": {
          "base_uri": "https://localhost:8080/",
          "height": 34
        },
        "outputId": "6cfeabba-5827-4563-892e-65061e787cf7"
      },
      "source": [
        "prediction.shape"
      ],
      "execution_count": null,
      "outputs": [
        {
          "output_type": "execute_result",
          "data": {
            "text/plain": [
              "(10000, 10)"
            ]
          },
          "metadata": {
            "tags": []
          },
          "execution_count": 52
        }
      ]
    },
    {
      "cell_type": "code",
      "metadata": {
        "id": "6xIU-tPD6bJA",
        "colab_type": "code",
        "colab": {
          "base_uri": "https://localhost:8080/",
          "height": 68
        },
        "outputId": "795886a1-d4f9-427f-ee63-bebd778c267b"
      },
      "source": [
        "prediction[0]"
      ],
      "execution_count": null,
      "outputs": [
        {
          "output_type": "execute_result",
          "data": {
            "text/plain": [
              "array([6.0951393e-14, 2.4517369e-08, 9.4644106e-09, 2.2581129e-07,\n",
              "       4.3751639e-12, 8.0381959e-09, 6.9414750e-09, 9.9999976e-01,\n",
              "       5.9236171e-12, 1.7711863e-11], dtype=float32)"
            ]
          },
          "metadata": {
            "tags": []
          },
          "execution_count": 53
        }
      ]
    },
    {
      "cell_type": "code",
      "metadata": {
        "id": "E02WLZuS6dko",
        "colab_type": "code",
        "colab": {
          "base_uri": "https://localhost:8080/",
          "height": 34
        },
        "outputId": "b17c4ef0-0f41-468b-a815-9cbf06502071"
      },
      "source": [
        "np.argmax(prediction[0])"
      ],
      "execution_count": null,
      "outputs": [
        {
          "output_type": "execute_result",
          "data": {
            "text/plain": [
              "7"
            ]
          },
          "metadata": {
            "tags": []
          },
          "execution_count": 54
        }
      ]
    },
    {
      "cell_type": "code",
      "metadata": {
        "id": "SBP6rLhB6g8v",
        "colab_type": "code",
        "colab": {
          "base_uri": "https://localhost:8080/",
          "height": 34
        },
        "outputId": "86232644-ec8b-4123-8de9-3ce0dc96241a"
      },
      "source": [
        "y_test[0]"
      ],
      "execution_count": null,
      "outputs": [
        {
          "output_type": "execute_result",
          "data": {
            "text/plain": [
              "7"
            ]
          },
          "metadata": {
            "tags": []
          },
          "execution_count": 55
        }
      ]
    },
    {
      "cell_type": "code",
      "metadata": {
        "id": "oRzwArQP6ms2",
        "colab_type": "code",
        "colab": {
          "base_uri": "https://localhost:8080/",
          "height": 564
        },
        "outputId": "4ce3512d-a935-4788-bbbd-868a216b7d1d"
      },
      "source": [
        "keras.utils.plot_model(model, 'image_classification.png')"
      ],
      "execution_count": null,
      "outputs": [
        {
          "output_type": "execute_result",
          "data": {
            "image/png": "[encoded data removed]",
            "text/plain": [
              "<IPython.core.display.Image object>"
            ]
          },
          "metadata": {
            "tags": []
          },
          "execution_count": 56
        }
      ]
    },
    {
      "cell_type": "code",
      "metadata": {
        "id": "7bGB_bIb7Y7o",
        "colab_type": "code",
        "colab": {}
      },
      "source": [
        ""
      ],
      "execution_count": null,
      "outputs": []
    }
  ]
}